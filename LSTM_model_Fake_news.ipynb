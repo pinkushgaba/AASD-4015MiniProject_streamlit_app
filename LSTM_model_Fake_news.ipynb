{
 "cells": [
  {
   "cell_type": "code",
   "execution_count": 43,
   "metadata": {},
   "outputs": [],
   "source": [
    "from nltk.tokenize import word_tokenize\n",
    "import re\n",
    "import string\n",
    "from nltk.corpus import stopwords\n",
    "from nltk.stem.wordnet import WordNetLemmatizer\n",
    "import pandas as pd\n",
    "import numpy as np\n",
    "import pickle\n",
    "\n",
    "from tensorflow.keras import regularizers, initializers, optimizers, callbacks\n",
    "from tensorflow.keras.preprocessing.sequence import pad_sequences\n",
    "from tensorflow.keras.preprocessing.text import Tokenizer\n",
    "from keras.utils.np_utils import to_categorical\n",
    "from tensorflow.keras.layers import *\n",
    "from tensorflow.keras.models import Model"
   ]
  },
  {
   "cell_type": "code",
   "execution_count": 63,
   "metadata": {},
   "outputs": [],
   "source": [
    "train = pd.read_csv(r\"Dataset/train.csv\")\n",
    "true = train[train['label']==0]\n",
    "fake = train[train['label']==1]"
   ]
  },
  {
   "cell_type": "code",
   "execution_count": 64,
   "metadata": {},
   "outputs": [
    {
     "name": "stderr",
     "output_type": "stream",
     "text": [
      "C:\\Users\\pinku\\AppData\\Local\\Temp\\ipykernel_9776\\32679172.py:1: SettingWithCopyWarning: \n",
      "A value is trying to be set on a copy of a slice from a DataFrame.\n",
      "Try using .loc[row_indexer,col_indexer] = value instead\n",
      "\n",
      "See the caveats in the documentation: https://pandas.pydata.org/pandas-docs/stable/user_guide/indexing.html#returning-a-view-versus-a-copy\n",
      "  true[\"target\"] = 0\n",
      "C:\\Users\\pinku\\AppData\\Local\\Temp\\ipykernel_9776\\32679172.py:2: SettingWithCopyWarning: \n",
      "A value is trying to be set on a copy of a slice from a DataFrame.\n",
      "Try using .loc[row_indexer,col_indexer] = value instead\n",
      "\n",
      "See the caveats in the documentation: https://pandas.pydata.org/pandas-docs/stable/user_guide/indexing.html#returning-a-view-versus-a-copy\n",
      "  fake[\"target\"] = 1\n"
     ]
    },
    {
     "data": {
      "text/html": [
       "<div>\n",
       "<style scoped>\n",
       "    .dataframe tbody tr th:only-of-type {\n",
       "        vertical-align: middle;\n",
       "    }\n",
       "\n",
       "    .dataframe tbody tr th {\n",
       "        vertical-align: top;\n",
       "    }\n",
       "\n",
       "    .dataframe thead th {\n",
       "        text-align: right;\n",
       "    }\n",
       "</style>\n",
       "<table border=\"1\" class=\"dataframe\">\n",
       "  <thead>\n",
       "    <tr style=\"text-align: right;\">\n",
       "      <th></th>\n",
       "      <th>id</th>\n",
       "      <th>title</th>\n",
       "      <th>author</th>\n",
       "      <th>text</th>\n",
       "      <th>label</th>\n",
       "      <th>Unnamed: 5</th>\n",
       "      <th>Unnamed: 6</th>\n",
       "      <th>target</th>\n",
       "    </tr>\n",
       "  </thead>\n",
       "  <tbody>\n",
       "    <tr>\n",
       "      <th>0</th>\n",
       "      <td>13158</td>\n",
       "      <td>Bernie Sanders Meets President Obama and Pledg...</td>\n",
       "      <td>Alan Rappeport and Julie Hirschfeld Davis</td>\n",
       "      <td>WASHINGTON  —   Senator Bernie Sanders met wit...</td>\n",
       "      <td>0</td>\n",
       "      <td>NaN</td>\n",
       "      <td>NaN</td>\n",
       "      <td>0</td>\n",
       "    </tr>\n",
       "    <tr>\n",
       "      <th>1</th>\n",
       "      <td>13163</td>\n",
       "      <td>Steve Bannon Carries Battles to Another Influe...</td>\n",
       "      <td>Jason Horowitz</td>\n",
       "      <td>ROME  —   When Stephen K. Bannon was still hea...</td>\n",
       "      <td>0</td>\n",
       "      <td>NaN</td>\n",
       "      <td>NaN</td>\n",
       "      <td>0</td>\n",
       "    </tr>\n",
       "    <tr>\n",
       "      <th>2</th>\n",
       "      <td>13164</td>\n",
       "      <td>Damien Chazelle, ‘La La Land’ Director, on Cal...</td>\n",
       "      <td>John L. Dorman</td>\n",
       "      <td>Damien Chazelle, the writer and director of th...</td>\n",
       "      <td>0</td>\n",
       "      <td>NaN</td>\n",
       "      <td>NaN</td>\n",
       "      <td>0</td>\n",
       "    </tr>\n",
       "    <tr>\n",
       "      <th>3</th>\n",
       "      <td>13166</td>\n",
       "      <td>Jewish Group Praises Trump Administration For ...</td>\n",
       "      <td>Deborah Danan</td>\n",
       "      <td>TEL AVIV  —   On the eve of Israel’s Holocaust...</td>\n",
       "      <td>0</td>\n",
       "      <td>NaN</td>\n",
       "      <td>NaN</td>\n",
       "      <td>0</td>\n",
       "    </tr>\n",
       "    <tr>\n",
       "      <th>4</th>\n",
       "      <td>13172</td>\n",
       "      <td>Southern Poverty Law Center TV Series to Explo...</td>\n",
       "      <td>Jerome Hudson</td>\n",
       "      <td>The Southern Poverty Law Center (SPLC) is deve...</td>\n",
       "      <td>0</td>\n",
       "      <td>NaN</td>\n",
       "      <td>NaN</td>\n",
       "      <td>0</td>\n",
       "    </tr>\n",
       "  </tbody>\n",
       "</table>\n",
       "</div>"
      ],
      "text/plain": [
       "      id                                              title  \\\n",
       "0  13158  Bernie Sanders Meets President Obama and Pledg...   \n",
       "1  13163  Steve Bannon Carries Battles to Another Influe...   \n",
       "2  13164  Damien Chazelle, ‘La La Land’ Director, on Cal...   \n",
       "3  13166  Jewish Group Praises Trump Administration For ...   \n",
       "4  13172  Southern Poverty Law Center TV Series to Explo...   \n",
       "\n",
       "                                      author  \\\n",
       "0  Alan Rappeport and Julie Hirschfeld Davis   \n",
       "1                             Jason Horowitz   \n",
       "2                             John L. Dorman   \n",
       "3                              Deborah Danan   \n",
       "4                              Jerome Hudson   \n",
       "\n",
       "                                                text  label  Unnamed: 5  \\\n",
       "0  WASHINGTON  —   Senator Bernie Sanders met wit...      0         NaN   \n",
       "1  ROME  —   When Stephen K. Bannon was still hea...      0         NaN   \n",
       "2  Damien Chazelle, the writer and director of th...      0         NaN   \n",
       "3  TEL AVIV  —   On the eve of Israel’s Holocaust...      0         NaN   \n",
       "4  The Southern Poverty Law Center (SPLC) is deve...      0         NaN   \n",
       "\n",
       "  Unnamed: 6  target  \n",
       "0        NaN       0  \n",
       "1        NaN       0  \n",
       "2        NaN       0  \n",
       "3        NaN       0  \n",
       "4        NaN       0  "
      ]
     },
     "execution_count": 64,
     "metadata": {},
     "output_type": "execute_result"
    }
   ],
   "source": [
    "true[\"target\"] = 0\n",
    "fake[\"target\"] = 1\n",
    "\n",
    "true.head()"
   ]
  },
  {
   "cell_type": "code",
   "execution_count": 65,
   "metadata": {},
   "outputs": [
    {
     "data": {
      "text/html": [
       "<div>\n",
       "<style scoped>\n",
       "    .dataframe tbody tr th:only-of-type {\n",
       "        vertical-align: middle;\n",
       "    }\n",
       "\n",
       "    .dataframe tbody tr th {\n",
       "        vertical-align: top;\n",
       "    }\n",
       "\n",
       "    .dataframe thead th {\n",
       "        text-align: right;\n",
       "    }\n",
       "</style>\n",
       "<table border=\"1\" class=\"dataframe\">\n",
       "  <thead>\n",
       "    <tr style=\"text-align: right;\">\n",
       "      <th></th>\n",
       "      <th>id</th>\n",
       "      <th>title</th>\n",
       "      <th>author</th>\n",
       "      <th>text</th>\n",
       "      <th>label</th>\n",
       "      <th>Unnamed: 5</th>\n",
       "      <th>Unnamed: 6</th>\n",
       "      <th>target</th>\n",
       "    </tr>\n",
       "  </thead>\n",
       "  <tbody>\n",
       "    <tr>\n",
       "      <th>0</th>\n",
       "      <td>13158</td>\n",
       "      <td>Bernie Sanders Meets President Obama and Pledg...</td>\n",
       "      <td>Alan Rappeport and Julie Hirschfeld Davis</td>\n",
       "      <td>WASHINGTON  —   Senator Bernie Sanders met wit...</td>\n",
       "      <td>0</td>\n",
       "      <td>NaN</td>\n",
       "      <td>NaN</td>\n",
       "      <td>0</td>\n",
       "    </tr>\n",
       "    <tr>\n",
       "      <th>1</th>\n",
       "      <td>13163</td>\n",
       "      <td>Steve Bannon Carries Battles to Another Influe...</td>\n",
       "      <td>Jason Horowitz</td>\n",
       "      <td>ROME  —   When Stephen K. Bannon was still hea...</td>\n",
       "      <td>0</td>\n",
       "      <td>NaN</td>\n",
       "      <td>NaN</td>\n",
       "      <td>0</td>\n",
       "    </tr>\n",
       "    <tr>\n",
       "      <th>2</th>\n",
       "      <td>13164</td>\n",
       "      <td>Damien Chazelle, ‘La La Land’ Director, on Cal...</td>\n",
       "      <td>John L. Dorman</td>\n",
       "      <td>Damien Chazelle, the writer and director of th...</td>\n",
       "      <td>0</td>\n",
       "      <td>NaN</td>\n",
       "      <td>NaN</td>\n",
       "      <td>0</td>\n",
       "    </tr>\n",
       "    <tr>\n",
       "      <th>3</th>\n",
       "      <td>13166</td>\n",
       "      <td>Jewish Group Praises Trump Administration For ...</td>\n",
       "      <td>Deborah Danan</td>\n",
       "      <td>TEL AVIV  —   On the eve of Israel’s Holocaust...</td>\n",
       "      <td>0</td>\n",
       "      <td>NaN</td>\n",
       "      <td>NaN</td>\n",
       "      <td>0</td>\n",
       "    </tr>\n",
       "    <tr>\n",
       "      <th>4</th>\n",
       "      <td>13172</td>\n",
       "      <td>Southern Poverty Law Center TV Series to Explo...</td>\n",
       "      <td>Jerome Hudson</td>\n",
       "      <td>The Southern Poverty Law Center (SPLC) is deve...</td>\n",
       "      <td>0</td>\n",
       "      <td>NaN</td>\n",
       "      <td>NaN</td>\n",
       "      <td>0</td>\n",
       "    </tr>\n",
       "  </tbody>\n",
       "</table>\n",
       "</div>"
      ],
      "text/plain": [
       "      id                                              title  \\\n",
       "0  13158  Bernie Sanders Meets President Obama and Pledg...   \n",
       "1  13163  Steve Bannon Carries Battles to Another Influe...   \n",
       "2  13164  Damien Chazelle, ‘La La Land’ Director, on Cal...   \n",
       "3  13166  Jewish Group Praises Trump Administration For ...   \n",
       "4  13172  Southern Poverty Law Center TV Series to Explo...   \n",
       "\n",
       "                                      author  \\\n",
       "0  Alan Rappeport and Julie Hirschfeld Davis   \n",
       "1                             Jason Horowitz   \n",
       "2                             John L. Dorman   \n",
       "3                              Deborah Danan   \n",
       "4                              Jerome Hudson   \n",
       "\n",
       "                                                text  label  Unnamed: 5  \\\n",
       "0  WASHINGTON  —   Senator Bernie Sanders met wit...      0         NaN   \n",
       "1  ROME  —   When Stephen K. Bannon was still hea...      0         NaN   \n",
       "2  Damien Chazelle, the writer and director of th...      0         NaN   \n",
       "3  TEL AVIV  —   On the eve of Israel’s Holocaust...      0         NaN   \n",
       "4  The Southern Poverty Law Center (SPLC) is deve...      0         NaN   \n",
       "\n",
       "  Unnamed: 6  target  \n",
       "0        NaN       0  \n",
       "1        NaN       0  \n",
       "2        NaN       0  \n",
       "3        NaN       0  \n",
       "4        NaN       0  "
      ]
     },
     "execution_count": 65,
     "metadata": {},
     "output_type": "execute_result"
    }
   ],
   "source": [
    "df = pd.concat([true,fake])\n",
    "df.head()"
   ]
  },
  {
   "cell_type": "code",
   "execution_count": 66,
   "metadata": {},
   "outputs": [
    {
     "name": "stdout",
     "output_type": "stream",
     "text": [
      "7588\n",
      "7588\n"
     ]
    }
   ],
   "source": [
    "print(len(true) + len(fake))\n",
    "print(len(df))"
   ]
  },
  {
   "cell_type": "code",
   "execution_count": 67,
   "metadata": {},
   "outputs": [
    {
     "data": {
      "text/html": [
       "<div>\n",
       "<style scoped>\n",
       "    .dataframe tbody tr th:only-of-type {\n",
       "        vertical-align: middle;\n",
       "    }\n",
       "\n",
       "    .dataframe tbody tr th {\n",
       "        vertical-align: top;\n",
       "    }\n",
       "\n",
       "    .dataframe thead th {\n",
       "        text-align: right;\n",
       "    }\n",
       "</style>\n",
       "<table border=\"1\" class=\"dataframe\">\n",
       "  <thead>\n",
       "    <tr style=\"text-align: right;\">\n",
       "      <th></th>\n",
       "      <th>id</th>\n",
       "      <th>title</th>\n",
       "      <th>author</th>\n",
       "      <th>text</th>\n",
       "      <th>label</th>\n",
       "      <th>Unnamed: 5</th>\n",
       "      <th>Unnamed: 6</th>\n",
       "      <th>target</th>\n",
       "    </tr>\n",
       "  </thead>\n",
       "  <tbody>\n",
       "    <tr>\n",
       "      <th>4701</th>\n",
       "      <td>17901</td>\n",
       "      <td>Top US General Pleads With Troops Not To Revol...</td>\n",
       "      <td>Guest Post</td>\n",
       "      <td>By: The Voice of Reason | In recent weeks, a c...</td>\n",
       "      <td>1</td>\n",
       "      <td>NaN</td>\n",
       "      <td>NaN</td>\n",
       "      <td>1</td>\n",
       "    </tr>\n",
       "    <tr>\n",
       "      <th>6663</th>\n",
       "      <td>19872</td>\n",
       "      <td>NaN</td>\n",
       "      <td>Nick Denby</td>\n",
       "      <td>They are all \"Treasonous\" lying, narcissistica...</td>\n",
       "      <td>1</td>\n",
       "      <td>NaN</td>\n",
       "      <td>NaN</td>\n",
       "      <td>1</td>\n",
       "    </tr>\n",
       "    <tr>\n",
       "      <th>150</th>\n",
       "      <td>13336</td>\n",
       "      <td>Vessel For Male Sexual Gratification Very Sad ...</td>\n",
       "      <td>NaN</td>\n",
       "      <td>Man Wearing ‘Jewmerica’ T-Shirt Never Dreamed ...</td>\n",
       "      <td>1</td>\n",
       "      <td>NaN</td>\n",
       "      <td>NaN</td>\n",
       "      <td>1</td>\n",
       "    </tr>\n",
       "    <tr>\n",
       "      <th>2730</th>\n",
       "      <td>15925</td>\n",
       "      <td>The Word From the Trenches – October 27, 2016</td>\n",
       "      <td>Henry Shivley</td>\n",
       "      <td>You can listen on our player . \\r\\nTo listen o...</td>\n",
       "      <td>1</td>\n",
       "      <td>NaN</td>\n",
       "      <td>NaN</td>\n",
       "      <td>1</td>\n",
       "    </tr>\n",
       "    <tr>\n",
       "      <th>4686</th>\n",
       "      <td>17886</td>\n",
       "      <td>NaN</td>\n",
       "      <td>Margaret</td>\n",
       "      <td>by having it be about climate and not about th...</td>\n",
       "      <td>1</td>\n",
       "      <td>NaN</td>\n",
       "      <td>NaN</td>\n",
       "      <td>1</td>\n",
       "    </tr>\n",
       "  </tbody>\n",
       "</table>\n",
       "</div>"
      ],
      "text/plain": [
       "         id                                              title         author  \\\n",
       "4701  17901  Top US General Pleads With Troops Not To Revol...     Guest Post   \n",
       "6663  19872                                                NaN     Nick Denby   \n",
       "150   13336  Vessel For Male Sexual Gratification Very Sad ...            NaN   \n",
       "2730  15925      The Word From the Trenches – October 27, 2016  Henry Shivley   \n",
       "4686  17886                                                NaN       Margaret   \n",
       "\n",
       "                                                   text  label  Unnamed: 5  \\\n",
       "4701  By: The Voice of Reason | In recent weeks, a c...      1         NaN   \n",
       "6663  They are all \"Treasonous\" lying, narcissistica...      1         NaN   \n",
       "150   Man Wearing ‘Jewmerica’ T-Shirt Never Dreamed ...      1         NaN   \n",
       "2730  You can listen on our player . \\r\\nTo listen o...      1         NaN   \n",
       "4686  by having it be about climate and not about th...      1         NaN   \n",
       "\n",
       "     Unnamed: 6  target  \n",
       "4701        NaN       1  \n",
       "6663        NaN       1  \n",
       "150         NaN       1  \n",
       "2730        NaN       1  \n",
       "4686        NaN       1  "
      ]
     },
     "execution_count": 67,
     "metadata": {},
     "output_type": "execute_result"
    }
   ],
   "source": [
    "from sklearn.utils import shuffle\n",
    "df = shuffle(df)\n",
    "df.head()"
   ]
  },
  {
   "cell_type": "markdown",
   "metadata": {},
   "source": [
    "### Preprocessing"
   ]
  },
  {
   "cell_type": "code",
   "execution_count": 68,
   "metadata": {},
   "outputs": [],
   "source": [
    "def basic_text_cleaning(line_from_column):\n",
    "    # This function takes in a string, not a list or an array for the arg line_from_column\n",
    "    \n",
    "    tokenized_doc = word_tokenize(line_from_column)\n",
    "    \n",
    "    new_review = []\n",
    "    for token in tokenized_doc:\n",
    "        new_token = regex.sub(u'', token)\n",
    "        if not new_token == u'':\n",
    "            new_review.append(new_token)\n",
    "    \n",
    "    new_term_vector = []\n",
    "    for word in new_review:\n",
    "        if not word in stopwords.words('english'):\n",
    "            new_term_vector.append(word)\n",
    "    \n",
    "    final_doc = []\n",
    "    for word in new_term_vector:\n",
    "        final_doc.append(wordnet.lemmatize(word))\n",
    "    \n",
    "    return ' '.join(final_doc)\n",
    "\n",
    "def get_dummies(df, col_target):\n",
    "    df_y = pd.get_dummies(df[col_target])\n",
    "    df_new = df.join(df_y)\n",
    "    df_new = df_new.drop(col_target,axis=1)\n",
    "    return df_new\n",
    "\n",
    "def prep_features(df, labels, text):\n",
    "    y = df[labels].values\n",
    "    comments_train = df[text]\n",
    "    comments_train = list(comments_train)\n",
    "    \n",
    "    return comments_train, y\n",
    "\n",
    "def prep_tokenizer(texts,MAX_NB_WORDS):\n",
    "    tokenizer = Tokenizer(num_words=MAX_NB_WORDS)\n",
    "    tokenizer.fit_on_texts(texts)\n",
    "    \n",
    "    print(\"Tokeniser created - Saving Tokeniser\")\n",
    "    \n",
    "    with open('tokenizer.pickle', 'wb') as handle:\n",
    "        pickle.dump(tokenizer, handle, protocol=pickle.HIGHEST_PROTOCOL)\n",
    "        \n",
    "    print(\"Tokeniser saved\")\n",
    "    \n",
    "def prepare_training_test_data(texts,tokenizer,y):\n",
    "    sequences = tokenizer.texts_to_sequences(texts)\n",
    "    word_index = tokenizer.word_index\n",
    "    print('Vocabulary size:', len(word_index))\n",
    "    \n",
    "    print(\"Padding sequences\")\n",
    "    \n",
    "    data = pad_sequences(sequences, padding = 'post', maxlen = MAX_SEQUENCE_LENGTH)\n",
    "    print('Shape of data tensor:', data.shape)\n",
    "    \n",
    "    indices = np.arange(data.shape[0])\n",
    "    np.random.shuffle(indices)\n",
    "    data = data[indices]\n",
    "    labels = y[indices]\n",
    "    \n",
    "    num_validation_samples = int(VALIDATION_SPLIT*data.shape[0])\n",
    "    x_train = data[: -num_validation_samples]\n",
    "    y_train = labels[: -num_validation_samples]\n",
    "    x_val = data[-num_validation_samples: ]\n",
    "    y_val = labels[-num_validation_samples: ]\n",
    "    \n",
    "    print('Number of entries in each category:')\n",
    "    print('training: ', y_train.sum(axis=0))\n",
    "    print('validation: ', y_val.sum(axis=0))\n",
    "    \n",
    "    print('Tokenized sentences: \\n', data[0])\n",
    "    print('One hot label: \\n', labels[0])\n",
    "    \n",
    "    return x_train, y_train, x_val, y_val"
   ]
  },
  {
   "cell_type": "code",
   "execution_count": 69,
   "metadata": {},
   "outputs": [],
   "source": [
    "wordnet = WordNetLemmatizer()\n",
    "regex = re.compile('[%s]' % re.escape(string.punctuation))"
   ]
  },
  {
   "cell_type": "code",
   "execution_count": 70,
   "metadata": {},
   "outputs": [],
   "source": [
    "MAX_NB_WORDS = 100000    # max no. of words for tokenizer\n",
    "MAX_SEQUENCE_LENGTH = 200 # max length of each entry (sentence), including padding\n",
    "VALIDATION_SPLIT = 0.2   # data for validation (not used in training)\n",
    "EMBEDDING_DIM = 100   \n",
    "GLOVE_DIR = \"glove/glove.6B.\"+str(EMBEDDING_DIM)+\"d.txt\""
   ]
  },
  {
   "cell_type": "code",
   "execution_count": 71,
   "metadata": {},
   "outputs": [
    {
     "data": {
      "text/html": [
       "<div>\n",
       "<style scoped>\n",
       "    .dataframe tbody tr th:only-of-type {\n",
       "        vertical-align: middle;\n",
       "    }\n",
       "\n",
       "    .dataframe tbody tr th {\n",
       "        vertical-align: top;\n",
       "    }\n",
       "\n",
       "    .dataframe thead th {\n",
       "        text-align: right;\n",
       "    }\n",
       "</style>\n",
       "<table border=\"1\" class=\"dataframe\">\n",
       "  <thead>\n",
       "    <tr style=\"text-align: right;\">\n",
       "      <th></th>\n",
       "      <th>text</th>\n",
       "      <th>target</th>\n",
       "    </tr>\n",
       "  </thead>\n",
       "  <tbody>\n",
       "    <tr>\n",
       "      <th>4701</th>\n",
       "      <td>By: The Voice of Reason | In recent weeks, a c...</td>\n",
       "      <td>1</td>\n",
       "    </tr>\n",
       "    <tr>\n",
       "      <th>6663</th>\n",
       "      <td>They are all \"Treasonous\" lying, narcissistica...</td>\n",
       "      <td>1</td>\n",
       "    </tr>\n",
       "    <tr>\n",
       "      <th>150</th>\n",
       "      <td>Man Wearing ‘Jewmerica’ T-Shirt Never Dreamed ...</td>\n",
       "      <td>1</td>\n",
       "    </tr>\n",
       "    <tr>\n",
       "      <th>2730</th>\n",
       "      <td>You can listen on our player . \\r\\nTo listen o...</td>\n",
       "      <td>1</td>\n",
       "    </tr>\n",
       "    <tr>\n",
       "      <th>4686</th>\n",
       "      <td>by having it be about climate and not about th...</td>\n",
       "      <td>1</td>\n",
       "    </tr>\n",
       "  </tbody>\n",
       "</table>\n",
       "</div>"
      ],
      "text/plain": [
       "                                                   text  target\n",
       "4701  By: The Voice of Reason | In recent weeks, a c...       1\n",
       "6663  They are all \"Treasonous\" lying, narcissistica...       1\n",
       "150   Man Wearing ‘Jewmerica’ T-Shirt Never Dreamed ...       1\n",
       "2730  You can listen on our player . \\r\\nTo listen o...       1\n",
       "4686  by having it be about climate and not about th...       1"
      ]
     },
     "execution_count": 71,
     "metadata": {},
     "output_type": "execute_result"
    }
   ],
   "source": [
    "df = df[[\"text\",\"target\"]]\n",
    "df.head()"
   ]
  },
  {
   "cell_type": "code",
   "execution_count": 72,
   "metadata": {},
   "outputs": [
    {
     "name": "stderr",
     "output_type": "stream",
     "text": [
      "C:\\Users\\pinku\\AppData\\Local\\Temp\\ipykernel_9776\\1551148580.py:4: SettingWithCopyWarning: \n",
      "A value is trying to be set on a copy of a slice from a DataFrame\n",
      "\n",
      "See the caveats in the documentation: https://pandas.pydata.org/pandas-docs/stable/user_guide/indexing.html#returning-a-view-versus-a-copy\n",
      "  text['text'][i] = re.sub('[^a-zA-Z]', ' ', text['text'][i])\n",
      "C:\\Users\\pinku\\AppData\\Local\\Temp\\ipykernel_9776\\1551148580.py:5: SettingWithCopyWarning: \n",
      "A value is trying to be set on a copy of a slice from a DataFrame\n",
      "\n",
      "See the caveats in the documentation: https://pandas.pydata.org/pandas-docs/stable/user_guide/indexing.html#returning-a-view-versus-a-copy\n",
      "  text['text'][i] = text['text'][i].lower()\n",
      "C:\\Users\\pinku\\AppData\\Local\\Temp\\ipykernel_9776\\1551148580.py:3: SettingWithCopyWarning: \n",
      "A value is trying to be set on a copy of a slice from a DataFrame\n",
      "\n",
      "See the caveats in the documentation: https://pandas.pydata.org/pandas-docs/stable/user_guide/indexing.html#returning-a-view-versus-a-copy\n",
      "  text['text'][i] = str(text['text'][i])\n"
     ]
    }
   ],
   "source": [
    "text = df\n",
    "for i in range(0,len(text)):\n",
    "    text['text'][i] = str(text['text'][i])\n",
    "    text['text'][i] = re.sub('[^a-zA-Z]', ' ', text['text'][i])\n",
    "    text['text'][i] = text['text'][i].lower()\n",
    "df = text"
   ]
  },
  {
   "cell_type": "code",
   "execution_count": 73,
   "metadata": {},
   "outputs": [
    {
     "data": {
      "text/html": [
       "<div>\n",
       "<style scoped>\n",
       "    .dataframe tbody tr th:only-of-type {\n",
       "        vertical-align: middle;\n",
       "    }\n",
       "\n",
       "    .dataframe tbody tr th {\n",
       "        vertical-align: top;\n",
       "    }\n",
       "\n",
       "    .dataframe thead th {\n",
       "        text-align: right;\n",
       "    }\n",
       "</style>\n",
       "<table border=\"1\" class=\"dataframe\">\n",
       "  <thead>\n",
       "    <tr style=\"text-align: right;\">\n",
       "      <th></th>\n",
       "      <th>text</th>\n",
       "      <th>target</th>\n",
       "    </tr>\n",
       "  </thead>\n",
       "  <tbody>\n",
       "    <tr>\n",
       "      <th>4701</th>\n",
       "      <td>by  the voice of reason   in recent weeks  a c...</td>\n",
       "      <td>1</td>\n",
       "    </tr>\n",
       "    <tr>\n",
       "      <th>6663</th>\n",
       "      <td>they are all  treasonous  lying  narcissistica...</td>\n",
       "      <td>1</td>\n",
       "    </tr>\n",
       "    <tr>\n",
       "      <th>150</th>\n",
       "      <td>man wearing  jewmerica  t shirt never dreamed ...</td>\n",
       "      <td>1</td>\n",
       "    </tr>\n",
       "    <tr>\n",
       "      <th>2730</th>\n",
       "      <td>you can listen on our player     to listen on ...</td>\n",
       "      <td>1</td>\n",
       "    </tr>\n",
       "    <tr>\n",
       "      <th>4686</th>\n",
       "      <td>by having it be about climate and not about th...</td>\n",
       "      <td>1</td>\n",
       "    </tr>\n",
       "  </tbody>\n",
       "</table>\n",
       "</div>"
      ],
      "text/plain": [
       "                                                   text  target\n",
       "4701  by  the voice of reason   in recent weeks  a c...       1\n",
       "6663  they are all  treasonous  lying  narcissistica...       1\n",
       "150   man wearing  jewmerica  t shirt never dreamed ...       1\n",
       "2730  you can listen on our player     to listen on ...       1\n",
       "4686  by having it be about climate and not about th...       1"
      ]
     },
     "execution_count": 73,
     "metadata": {},
     "output_type": "execute_result"
    }
   ],
   "source": [
    "df.head()"
   ]
  },
  {
   "cell_type": "code",
   "execution_count": 74,
   "metadata": {},
   "outputs": [
    {
     "name": "stderr",
     "output_type": "stream",
     "text": [
      "100%|██████████| 7588/7588 [20:17<00:00,  6.23it/s]\n"
     ]
    },
    {
     "data": {
      "text/html": [
       "<div>\n",
       "<style scoped>\n",
       "    .dataframe tbody tr th:only-of-type {\n",
       "        vertical-align: middle;\n",
       "    }\n",
       "\n",
       "    .dataframe tbody tr th {\n",
       "        vertical-align: top;\n",
       "    }\n",
       "\n",
       "    .dataframe thead th {\n",
       "        text-align: right;\n",
       "    }\n",
       "</style>\n",
       "<table border=\"1\" class=\"dataframe\">\n",
       "  <thead>\n",
       "    <tr style=\"text-align: right;\">\n",
       "      <th></th>\n",
       "      <th>text</th>\n",
       "      <th>target</th>\n",
       "      <th>clean_text</th>\n",
       "    </tr>\n",
       "  </thead>\n",
       "  <tbody>\n",
       "    <tr>\n",
       "      <th>4701</th>\n",
       "      <td>by  the voice of reason   in recent weeks  a c...</td>\n",
       "      <td>1</td>\n",
       "      <td>voice reason recent week common theme run vast...</td>\n",
       "    </tr>\n",
       "    <tr>\n",
       "      <th>6663</th>\n",
       "      <td>they are all  treasonous  lying  narcissistica...</td>\n",
       "      <td>1</td>\n",
       "      <td>treasonous lying narcissistical sociopathic ba...</td>\n",
       "    </tr>\n",
       "    <tr>\n",
       "      <th>150</th>\n",
       "      <td>man wearing  jewmerica  t shirt never dreamed ...</td>\n",
       "      <td>1</td>\n",
       "      <td>man wearing jewmerica shirt never dreamed see ...</td>\n",
       "    </tr>\n",
       "    <tr>\n",
       "      <th>2730</th>\n",
       "      <td>you can listen on our player     to listen on ...</td>\n",
       "      <td>1</td>\n",
       "      <td>listen player listen smart phone click link ht...</td>\n",
       "    </tr>\n",
       "    <tr>\n",
       "      <th>4686</th>\n",
       "      <td>by having it be about climate and not about th...</td>\n",
       "      <td>1</td>\n",
       "      <td>climate general planetary destruction nature l...</td>\n",
       "    </tr>\n",
       "  </tbody>\n",
       "</table>\n",
       "</div>"
      ],
      "text/plain": [
       "                                                   text  target  \\\n",
       "4701  by  the voice of reason   in recent weeks  a c...       1   \n",
       "6663  they are all  treasonous  lying  narcissistica...       1   \n",
       "150   man wearing  jewmerica  t shirt never dreamed ...       1   \n",
       "2730  you can listen on our player     to listen on ...       1   \n",
       "4686  by having it be about climate and not about th...       1   \n",
       "\n",
       "                                             clean_text  \n",
       "4701  voice reason recent week common theme run vast...  \n",
       "6663  treasonous lying narcissistical sociopathic ba...  \n",
       "150   man wearing jewmerica shirt never dreamed see ...  \n",
       "2730  listen player listen smart phone click link ht...  \n",
       "4686  climate general planetary destruction nature l...  "
      ]
     },
     "execution_count": 74,
     "metadata": {},
     "output_type": "execute_result"
    }
   ],
   "source": [
    "from tqdm import tqdm\n",
    "tqdm.pandas()\n",
    "\n",
    "df[\"clean_text\"] = df[\"text\"].progress_map(basic_text_cleaning)\n",
    "df.head()"
   ]
  },
  {
   "cell_type": "code",
   "execution_count": 76,
   "metadata": {},
   "outputs": [],
   "source": [
    "df.to_csv(\"models/clean_news.csv\")"
   ]
  },
  {
   "cell_type": "code",
   "execution_count": 77,
   "metadata": {},
   "outputs": [],
   "source": [
    "df = pd.read_csv(r\"models/clean_news.csv\")\n",
    "df[\"clean_text\"]=df[\"clean_text\"].astype(str)"
   ]
  },
  {
   "cell_type": "code",
   "execution_count": 78,
   "metadata": {},
   "outputs": [
    {
     "data": {
      "text/plain": [
       "7588"
      ]
     },
     "execution_count": 78,
     "metadata": {},
     "output_type": "execute_result"
    }
   ],
   "source": [
    "len(df)"
   ]
  },
  {
   "cell_type": "code",
   "execution_count": 79,
   "metadata": {},
   "outputs": [
    {
     "data": {
      "text/plain": [
       "7588"
      ]
     },
     "execution_count": 79,
     "metadata": {},
     "output_type": "execute_result"
    }
   ],
   "source": [
    "df_labels =  pd.get_dummies(df[\"target\"])\n",
    "len(df_labels)"
   ]
  },
  {
   "cell_type": "code",
   "execution_count": 80,
   "metadata": {},
   "outputs": [],
   "source": [
    "df_labels = df_labels.reset_index()"
   ]
  },
  {
   "cell_type": "code",
   "execution_count": 81,
   "metadata": {},
   "outputs": [],
   "source": [
    "df = df.reset_index()"
   ]
  },
  {
   "cell_type": "code",
   "execution_count": 82,
   "metadata": {},
   "outputs": [
    {
     "data": {
      "text/html": [
       "<div>\n",
       "<style scoped>\n",
       "    .dataframe tbody tr th:only-of-type {\n",
       "        vertical-align: middle;\n",
       "    }\n",
       "\n",
       "    .dataframe tbody tr th {\n",
       "        vertical-align: top;\n",
       "    }\n",
       "\n",
       "    .dataframe thead th {\n",
       "        text-align: right;\n",
       "    }\n",
       "</style>\n",
       "<table border=\"1\" class=\"dataframe\">\n",
       "  <thead>\n",
       "    <tr style=\"text-align: right;\">\n",
       "      <th></th>\n",
       "      <th>index</th>\n",
       "      <th>Unnamed: 0</th>\n",
       "      <th>text</th>\n",
       "      <th>target</th>\n",
       "      <th>clean_text</th>\n",
       "    </tr>\n",
       "  </thead>\n",
       "  <tbody>\n",
       "    <tr>\n",
       "      <th>0</th>\n",
       "      <td>0</td>\n",
       "      <td>4701</td>\n",
       "      <td>by  the voice of reason   in recent weeks  a c...</td>\n",
       "      <td>1</td>\n",
       "      <td>voice reason recent week common theme run vast...</td>\n",
       "    </tr>\n",
       "    <tr>\n",
       "      <th>1</th>\n",
       "      <td>1</td>\n",
       "      <td>6663</td>\n",
       "      <td>they are all  treasonous  lying  narcissistica...</td>\n",
       "      <td>1</td>\n",
       "      <td>treasonous lying narcissistical sociopathic ba...</td>\n",
       "    </tr>\n",
       "    <tr>\n",
       "      <th>2</th>\n",
       "      <td>2</td>\n",
       "      <td>150</td>\n",
       "      <td>man wearing  jewmerica  t shirt never dreamed ...</td>\n",
       "      <td>1</td>\n",
       "      <td>man wearing jewmerica shirt never dreamed see ...</td>\n",
       "    </tr>\n",
       "    <tr>\n",
       "      <th>3</th>\n",
       "      <td>3</td>\n",
       "      <td>2730</td>\n",
       "      <td>you can listen on our player     to listen on ...</td>\n",
       "      <td>1</td>\n",
       "      <td>listen player listen smart phone click link ht...</td>\n",
       "    </tr>\n",
       "    <tr>\n",
       "      <th>4</th>\n",
       "      <td>4</td>\n",
       "      <td>4686</td>\n",
       "      <td>by having it be about climate and not about th...</td>\n",
       "      <td>1</td>\n",
       "      <td>climate general planetary destruction nature l...</td>\n",
       "    </tr>\n",
       "  </tbody>\n",
       "</table>\n",
       "</div>"
      ],
      "text/plain": [
       "   index  Unnamed: 0                                               text  \\\n",
       "0      0        4701  by  the voice of reason   in recent weeks  a c...   \n",
       "1      1        6663  they are all  treasonous  lying  narcissistica...   \n",
       "2      2         150  man wearing  jewmerica  t shirt never dreamed ...   \n",
       "3      3        2730  you can listen on our player     to listen on ...   \n",
       "4      4        4686  by having it be about climate and not about th...   \n",
       "\n",
       "   target                                         clean_text  \n",
       "0       1  voice reason recent week common theme run vast...  \n",
       "1       1  treasonous lying narcissistical sociopathic ba...  \n",
       "2       1  man wearing jewmerica shirt never dreamed see ...  \n",
       "3       1  listen player listen smart phone click link ht...  \n",
       "4       1  climate general planetary destruction nature l...  "
      ]
     },
     "execution_count": 82,
     "metadata": {},
     "output_type": "execute_result"
    }
   ],
   "source": [
    "df.head()"
   ]
  },
  {
   "cell_type": "code",
   "execution_count": 83,
   "metadata": {},
   "outputs": [],
   "source": [
    "df = df.drop(\"index\",axis=1)"
   ]
  },
  {
   "cell_type": "code",
   "execution_count": 84,
   "metadata": {},
   "outputs": [
    {
     "data": {
      "text/html": [
       "<div>\n",
       "<style scoped>\n",
       "    .dataframe tbody tr th:only-of-type {\n",
       "        vertical-align: middle;\n",
       "    }\n",
       "\n",
       "    .dataframe tbody tr th {\n",
       "        vertical-align: top;\n",
       "    }\n",
       "\n",
       "    .dataframe thead th {\n",
       "        text-align: right;\n",
       "    }\n",
       "</style>\n",
       "<table border=\"1\" class=\"dataframe\">\n",
       "  <thead>\n",
       "    <tr style=\"text-align: right;\">\n",
       "      <th></th>\n",
       "      <th>Unnamed: 0</th>\n",
       "      <th>text</th>\n",
       "      <th>target</th>\n",
       "      <th>clean_text</th>\n",
       "    </tr>\n",
       "  </thead>\n",
       "  <tbody>\n",
       "    <tr>\n",
       "      <th>0</th>\n",
       "      <td>4701</td>\n",
       "      <td>by  the voice of reason   in recent weeks  a c...</td>\n",
       "      <td>1</td>\n",
       "      <td>voice reason recent week common theme run vast...</td>\n",
       "    </tr>\n",
       "    <tr>\n",
       "      <th>1</th>\n",
       "      <td>6663</td>\n",
       "      <td>they are all  treasonous  lying  narcissistica...</td>\n",
       "      <td>1</td>\n",
       "      <td>treasonous lying narcissistical sociopathic ba...</td>\n",
       "    </tr>\n",
       "    <tr>\n",
       "      <th>2</th>\n",
       "      <td>150</td>\n",
       "      <td>man wearing  jewmerica  t shirt never dreamed ...</td>\n",
       "      <td>1</td>\n",
       "      <td>man wearing jewmerica shirt never dreamed see ...</td>\n",
       "    </tr>\n",
       "    <tr>\n",
       "      <th>3</th>\n",
       "      <td>2730</td>\n",
       "      <td>you can listen on our player     to listen on ...</td>\n",
       "      <td>1</td>\n",
       "      <td>listen player listen smart phone click link ht...</td>\n",
       "    </tr>\n",
       "    <tr>\n",
       "      <th>4</th>\n",
       "      <td>4686</td>\n",
       "      <td>by having it be about climate and not about th...</td>\n",
       "      <td>1</td>\n",
       "      <td>climate general planetary destruction nature l...</td>\n",
       "    </tr>\n",
       "  </tbody>\n",
       "</table>\n",
       "</div>"
      ],
      "text/plain": [
       "   Unnamed: 0                                               text  target  \\\n",
       "0        4701  by  the voice of reason   in recent weeks  a c...       1   \n",
       "1        6663  they are all  treasonous  lying  narcissistica...       1   \n",
       "2         150  man wearing  jewmerica  t shirt never dreamed ...       1   \n",
       "3        2730  you can listen on our player     to listen on ...       1   \n",
       "4        4686  by having it be about climate and not about th...       1   \n",
       "\n",
       "                                          clean_text  \n",
       "0  voice reason recent week common theme run vast...  \n",
       "1  treasonous lying narcissistical sociopathic ba...  \n",
       "2  man wearing jewmerica shirt never dreamed see ...  \n",
       "3  listen player listen smart phone click link ht...  \n",
       "4  climate general planetary destruction nature l...  "
      ]
     },
     "execution_count": 84,
     "metadata": {},
     "output_type": "execute_result"
    }
   ],
   "source": [
    "df.head()"
   ]
  },
  {
   "cell_type": "code",
   "execution_count": 85,
   "metadata": {},
   "outputs": [
    {
     "data": {
      "text/html": [
       "<div>\n",
       "<style scoped>\n",
       "    .dataframe tbody tr th:only-of-type {\n",
       "        vertical-align: middle;\n",
       "    }\n",
       "\n",
       "    .dataframe tbody tr th {\n",
       "        vertical-align: top;\n",
       "    }\n",
       "\n",
       "    .dataframe thead th {\n",
       "        text-align: right;\n",
       "    }\n",
       "</style>\n",
       "<table border=\"1\" class=\"dataframe\">\n",
       "  <thead>\n",
       "    <tr style=\"text-align: right;\">\n",
       "      <th></th>\n",
       "      <th>0</th>\n",
       "      <th>1</th>\n",
       "    </tr>\n",
       "  </thead>\n",
       "  <tbody>\n",
       "    <tr>\n",
       "      <th>0</th>\n",
       "      <td>0</td>\n",
       "      <td>1</td>\n",
       "    </tr>\n",
       "    <tr>\n",
       "      <th>1</th>\n",
       "      <td>0</td>\n",
       "      <td>1</td>\n",
       "    </tr>\n",
       "    <tr>\n",
       "      <th>2</th>\n",
       "      <td>0</td>\n",
       "      <td>1</td>\n",
       "    </tr>\n",
       "    <tr>\n",
       "      <th>3</th>\n",
       "      <td>0</td>\n",
       "      <td>1</td>\n",
       "    </tr>\n",
       "    <tr>\n",
       "      <th>4</th>\n",
       "      <td>0</td>\n",
       "      <td>1</td>\n",
       "    </tr>\n",
       "  </tbody>\n",
       "</table>\n",
       "</div>"
      ],
      "text/plain": [
       "   0  1\n",
       "0  0  1\n",
       "1  0  1\n",
       "2  0  1\n",
       "3  0  1\n",
       "4  0  1"
      ]
     },
     "execution_count": 85,
     "metadata": {},
     "output_type": "execute_result"
    }
   ],
   "source": [
    "df_labels =  pd.get_dummies(df[\"target\"])\n",
    "df_labels = df_labels.reset_index()\n",
    "df_labels = df_labels.drop(\"index\",axis=1)\n",
    "df_labels.head()"
   ]
  },
  {
   "cell_type": "code",
   "execution_count": 86,
   "metadata": {},
   "outputs": [],
   "source": [
    "df_new =df.join(df_labels)"
   ]
  },
  {
   "cell_type": "code",
   "execution_count": 87,
   "metadata": {},
   "outputs": [
    {
     "data": {
      "text/html": [
       "<div>\n",
       "<style scoped>\n",
       "    .dataframe tbody tr th:only-of-type {\n",
       "        vertical-align: middle;\n",
       "    }\n",
       "\n",
       "    .dataframe tbody tr th {\n",
       "        vertical-align: top;\n",
       "    }\n",
       "\n",
       "    .dataframe thead th {\n",
       "        text-align: right;\n",
       "    }\n",
       "</style>\n",
       "<table border=\"1\" class=\"dataframe\">\n",
       "  <thead>\n",
       "    <tr style=\"text-align: right;\">\n",
       "      <th></th>\n",
       "      <th>Unnamed: 0</th>\n",
       "      <th>text</th>\n",
       "      <th>clean_text</th>\n",
       "      <th>0</th>\n",
       "      <th>1</th>\n",
       "    </tr>\n",
       "  </thead>\n",
       "  <tbody>\n",
       "    <tr>\n",
       "      <th>0</th>\n",
       "      <td>4701</td>\n",
       "      <td>by  the voice of reason   in recent weeks  a c...</td>\n",
       "      <td>voice reason recent week common theme run vast...</td>\n",
       "      <td>0</td>\n",
       "      <td>1</td>\n",
       "    </tr>\n",
       "    <tr>\n",
       "      <th>1</th>\n",
       "      <td>6663</td>\n",
       "      <td>they are all  treasonous  lying  narcissistica...</td>\n",
       "      <td>treasonous lying narcissistical sociopathic ba...</td>\n",
       "      <td>0</td>\n",
       "      <td>1</td>\n",
       "    </tr>\n",
       "    <tr>\n",
       "      <th>2</th>\n",
       "      <td>150</td>\n",
       "      <td>man wearing  jewmerica  t shirt never dreamed ...</td>\n",
       "      <td>man wearing jewmerica shirt never dreamed see ...</td>\n",
       "      <td>0</td>\n",
       "      <td>1</td>\n",
       "    </tr>\n",
       "    <tr>\n",
       "      <th>3</th>\n",
       "      <td>2730</td>\n",
       "      <td>you can listen on our player     to listen on ...</td>\n",
       "      <td>listen player listen smart phone click link ht...</td>\n",
       "      <td>0</td>\n",
       "      <td>1</td>\n",
       "    </tr>\n",
       "    <tr>\n",
       "      <th>4</th>\n",
       "      <td>4686</td>\n",
       "      <td>by having it be about climate and not about th...</td>\n",
       "      <td>climate general planetary destruction nature l...</td>\n",
       "      <td>0</td>\n",
       "      <td>1</td>\n",
       "    </tr>\n",
       "  </tbody>\n",
       "</table>\n",
       "</div>"
      ],
      "text/plain": [
       "   Unnamed: 0                                               text  \\\n",
       "0        4701  by  the voice of reason   in recent weeks  a c...   \n",
       "1        6663  they are all  treasonous  lying  narcissistica...   \n",
       "2         150  man wearing  jewmerica  t shirt never dreamed ...   \n",
       "3        2730  you can listen on our player     to listen on ...   \n",
       "4        4686  by having it be about climate and not about th...   \n",
       "\n",
       "                                          clean_text  0  1  \n",
       "0  voice reason recent week common theme run vast...  0  1  \n",
       "1  treasonous lying narcissistical sociopathic ba...  0  1  \n",
       "2  man wearing jewmerica shirt never dreamed see ...  0  1  \n",
       "3  listen player listen smart phone click link ht...  0  1  \n",
       "4  climate general planetary destruction nature l...  0  1  "
      ]
     },
     "execution_count": 87,
     "metadata": {},
     "output_type": "execute_result"
    }
   ],
   "source": [
    "df_new = get_dummies(df=df, col_target=\"target\")\n",
    "df_new.head()"
   ]
  },
  {
   "cell_type": "code",
   "execution_count": 88,
   "metadata": {},
   "outputs": [
    {
     "data": {
      "text/plain": [
       "7588"
      ]
     },
     "execution_count": 88,
     "metadata": {},
     "output_type": "execute_result"
    }
   ],
   "source": [
    "len(df_new)"
   ]
  },
  {
   "cell_type": "code",
   "execution_count": 89,
   "metadata": {},
   "outputs": [
    {
     "name": "stdout",
     "output_type": "stream",
     "text": [
      "voice reason recent week common theme run vast majority story covered people make sure preparing possibility major emergency first foremost back may president obama took time extremely busy schedule deliver address fema national response coordination center washington made point stress american preparing disaster emergency evacuation plan given scenario could find big trouble near future following excerpt obama speech come directly official white house website one thing learned course last seven half year government play vital role every citizen responsibility prepared disaster mean taking proactive step like evacuation plan fully stocked disaster supply kit local authority ask evacuate wait biggest reason second one look around surroundings see right perfect storm pure chaos brewing around u ally berlin nuclear missile pointed direction russian attest geopolitical tension sky right german leader along leader czeck republic issued warning people begin stockpiling food emergency supply case could existence threatening event helping matter geopolitically fact entire financial banking system west includes u dollar world reserve currency built debt based monetary system debt saturation process run full course global economy verge called global reset could occur moment lastly domestically presidential election gotten divisive supporter political party vowed accept winner candidate group even promised largest civil uprising nation history election go way news would enough put anyone edge talk video recent article earlier week daily caller article among thing report chairman joint chief staff gen joseph dunford issue reminder warning troop stay committed oath well chain command coming week light everything warning people recent report troubling daily caller report chairman joint chief staff gen joseph dunford wrote medium blog post monday remain committed military oath amid election must collectively guard allowing institution become politicized even perceived politicized conduct engagement medium public open social forum dunford reminded troop dunford urged service member military must remain committed chain command structure next administration come military undermine credibility interim next president duty protect integrity political neutrality military profession continued dunford comment also come amid increased concern u military becoming politicized reportedly furious retired marine gen john allen retired army gen michael flynn actively campaigning behalf democratic republican presidential nominee former chairman joint chief staff gen martin dempsey openly rebuked allen flynn injecting political process american people wonder military leader draw line military advice political preference lamented letter washington post continued nation soldier sailor airman marine wonder political leaning motivation leader letter also likely addressing recent political statement active duty service member social medium female sailor posted video sitting morning color protest supposed racism national anthem august protest video inspired er quarterback colin kaepernick voice reason pen name michael depinto graduate capital university law school attorney florida worked world trade center along family friend michael baptized fire world politics september michael political journey began tuning religiously whatever talking head television say michael became tea bagging activist liberal friend left would say volunteering within jacksonville local tea party recently michael sworn attorney today michael major contributor www beforeitsnews com owns operates www thelastgreatstand com michael provides often colorful political commentary ripe sarcasm doubt result michael frustration feel witnessing end american empire topic michael often weighs martial law fema camp jade helm economic issue government corruption government conspiracy submit review\n",
      "[0 1]\n"
     ]
    }
   ],
   "source": [
    "labels = [0,1]\n",
    "x_train, y_train = prep_features(df=df_new, labels=[0,1], text=\"clean_text\")\n",
    "print(x_train[0])\n",
    "print(y_train[0])"
   ]
  },
  {
   "cell_type": "code",
   "execution_count": 90,
   "metadata": {},
   "outputs": [],
   "source": [
    "with open('tokenizer.pickle', 'rb') as handle:\n",
    "    tokenizer = pickle.load(handle)"
   ]
  },
  {
   "cell_type": "code",
   "execution_count": 91,
   "metadata": {},
   "outputs": [
    {
     "name": "stdout",
     "output_type": "stream",
     "text": [
      "Vocabulary size: 208476\n",
      "Padding sequences\n",
      "Shape of data tensor: (7588, 200)\n",
      "Number of entries in each category:\n",
      "training:  [3018 3053]\n",
      "validation:  [776 741]\n",
      "Tokenized sentences: \n",
      " [  685 24017 14251   485   320    70    80    13  1355   124    34    55\n",
      "   394   300  5630    81    74    11  5381   188   983   485    18  1188\n",
      "  3851    11  1626   310   268     0     0     0     0     0     0     0\n",
      "     0     0     0     0     0     0     0     0     0     0     0     0\n",
      "     0     0     0     0     0     0     0     0     0     0     0     0\n",
      "     0     0     0     0     0     0     0     0     0     0     0     0\n",
      "     0     0     0     0     0     0     0     0     0     0     0     0\n",
      "     0     0     0     0     0     0     0     0     0     0     0     0\n",
      "     0     0     0     0     0     0     0     0     0     0     0     0\n",
      "     0     0     0     0     0     0     0     0     0     0     0     0\n",
      "     0     0     0     0     0     0     0     0     0     0     0     0\n",
      "     0     0     0     0     0     0     0     0     0     0     0     0\n",
      "     0     0     0     0     0     0     0     0     0     0     0     0\n",
      "     0     0     0     0     0     0     0     0     0     0     0     0\n",
      "     0     0     0     0     0     0     0     0     0     0     0     0\n",
      "     0     0     0     0     0     0     0     0     0     0     0     0\n",
      "     0     0     0     0     0     0     0     0]\n",
      "One hot label: \n",
      " [0 1]\n"
     ]
    }
   ],
   "source": [
    "x_train,y_train,x_test,y_test = prepare_training_test_data(texts=x_train,tokenizer=tokenizer,y=y_train)"
   ]
  },
  {
   "cell_type": "code",
   "execution_count": 95,
   "metadata": {},
   "outputs": [
    {
     "name": "stdout",
     "output_type": "stream",
     "text": [
      "Loading GloVe from: glove/glove.6B.100d.txt ...Done.\n",
      " Proceeding with Embedding Matrix... Completed!\n"
     ]
    }
   ],
   "source": [
    "embeddings_index = {}\n",
    "word_index = tokenizer.word_index\n",
    "f = open(GLOVE_DIR, encoding=\"utf8\")\n",
    "print('Loading GloVe from:', GLOVE_DIR,'...', end='')\n",
    "for line in f:\n",
    "    values = line.split()\n",
    "    word = values[0]\n",
    "    embeddings_index[word] = np.asarray(values[1:], dtype='float32')\n",
    "f.close()\n",
    "print(\"Done.\\n Proceeding with Embedding Matrix...\", end=\"\")\n",
    "\n",
    "embedding_matrix = np.random.random((len(word_index) + 1, EMBEDDING_DIM))\n",
    "for word, i in word_index.items():\n",
    "    embedding_vector = embeddings_index.get(word)\n",
    "    if embedding_vector is not None:\n",
    "        embedding_matrix[i] = embedding_vector\n",
    "print(\" Completed!\")"
   ]
  },
  {
   "cell_type": "code",
   "execution_count": 96,
   "metadata": {},
   "outputs": [],
   "source": [
    "sequence_input = Input(shape=(MAX_SEQUENCE_LENGTH,), dtype='int32')\n",
    "embedding_layer = Embedding(len(word_index) + 1,\n",
    "                           EMBEDDING_DIM,\n",
    "                           weights = [embedding_matrix],\n",
    "                           input_length = MAX_SEQUENCE_LENGTH,\n",
    "                           trainable=False,\n",
    "                           name = 'embeddings')\n",
    "embedded_sequences = embedding_layer(sequence_input)"
   ]
  },
  {
   "cell_type": "code",
   "execution_count": 97,
   "metadata": {},
   "outputs": [],
   "source": [
    "x = LSTM(60, return_sequences=True,name='lstm_layer')(embedded_sequences)\n",
    "x = GlobalMaxPool1D()(x)\n",
    "x = Dropout(0.1)(x)\n",
    "x = Dense(50, activation=\"relu\")(x)\n",
    "x = Dropout(0.1)(x)\n",
    "preds = Dense(2, activation=\"sigmoid\")(x)"
   ]
  },
  {
   "cell_type": "code",
   "execution_count": 98,
   "metadata": {},
   "outputs": [
    {
     "name": "stdout",
     "output_type": "stream",
     "text": [
      "Model: \"model\"\n",
      "_________________________________________________________________\n",
      " Layer (type)                Output Shape              Param #   \n",
      "=================================================================\n",
      " input_2 (InputLayer)        [(None, 200)]             0         \n",
      "                                                                 \n",
      " embeddings (Embedding)      (None, 200, 100)          20847700  \n",
      "                                                                 \n",
      " lstm_layer (LSTM)           (None, 200, 60)           38640     \n",
      "                                                                 \n",
      " global_max_pooling1d (Globa  (None, 60)               0         \n",
      " lMaxPooling1D)                                                  \n",
      "                                                                 \n",
      " dropout (Dropout)           (None, 60)                0         \n",
      "                                                                 \n",
      " dense (Dense)               (None, 50)                3050      \n",
      "                                                                 \n",
      " dropout_1 (Dropout)         (None, 50)                0         \n",
      "                                                                 \n",
      " dense_1 (Dense)             (None, 2)                 102       \n",
      "                                                                 \n",
      "=================================================================\n",
      "Total params: 20,889,492\n",
      "Trainable params: 41,792\n",
      "Non-trainable params: 20,847,700\n",
      "_________________________________________________________________\n"
     ]
    }
   ],
   "source": [
    "model = Model(sequence_input, preds)\n",
    "model.compile(loss = 'binary_crossentropy',\n",
    "             optimizer='adam',\n",
    "             metrics = ['accuracy'])\n",
    "model.summary()"
   ]
  },
  {
   "cell_type": "code",
   "execution_count": 99,
   "metadata": {},
   "outputs": [
    {
     "name": "stdout",
     "output_type": "stream",
     "text": [
      "WARNING:tensorflow:From C:\\Users\\pinku\\AppData\\Local\\Temp\\ipykernel_9776\\3326022288.py:2: is_gpu_available (from tensorflow.python.framework.test_util) is deprecated and will be removed in a future version.\n",
      "Instructions for updating:\n",
      "Use `tf.config.list_physical_devices('GPU')` instead.\n"
     ]
    },
    {
     "data": {
      "text/plain": [
       "True"
      ]
     },
     "execution_count": 99,
     "metadata": {},
     "output_type": "execute_result"
    }
   ],
   "source": [
    "import tensorflow as tf\n",
    "tf.test.is_gpu_available()"
   ]
  },
  {
   "cell_type": "code",
   "execution_count": 100,
   "metadata": {},
   "outputs": [
    {
     "name": "stdout",
     "output_type": "stream",
     "text": [
      "Training progress:\n",
      "Epoch 1/20\n",
      "190/190 [==============================] - 16s 18ms/step - loss: 0.5433 - accuracy: 0.7284 - val_loss: 0.4340 - val_accuracy: 0.7904\n",
      "Epoch 2/20\n",
      "190/190 [==============================] - 3s 14ms/step - loss: 0.3897 - accuracy: 0.8241 - val_loss: 0.3380 - val_accuracy: 0.8616\n",
      "Epoch 3/20\n",
      "190/190 [==============================] - 3s 14ms/step - loss: 0.2968 - accuracy: 0.8799 - val_loss: 0.2958 - val_accuracy: 0.8708\n",
      "Epoch 4/20\n",
      "190/190 [==============================] - 3s 14ms/step - loss: 0.2328 - accuracy: 0.9079 - val_loss: 0.2482 - val_accuracy: 0.8958\n",
      "Epoch 5/20\n",
      "190/190 [==============================] - 3s 14ms/step - loss: 0.2007 - accuracy: 0.9171 - val_loss: 0.2681 - val_accuracy: 0.8853\n",
      "Epoch 6/20\n",
      "190/190 [==============================] - 3s 14ms/step - loss: 0.1710 - accuracy: 0.9310 - val_loss: 0.2515 - val_accuracy: 0.8926\n",
      "Epoch 7/20\n",
      "190/190 [==============================] - 3s 14ms/step - loss: 0.1346 - accuracy: 0.9468 - val_loss: 0.2538 - val_accuracy: 0.8945\n",
      "Epoch 8/20\n",
      "190/190 [==============================] - 3s 15ms/step - loss: 0.1199 - accuracy: 0.9526 - val_loss: 0.2420 - val_accuracy: 0.9031\n",
      "Epoch 9/20\n",
      "190/190 [==============================] - 3s 14ms/step - loss: 0.0928 - accuracy: 0.9636 - val_loss: 0.2897 - val_accuracy: 0.8932\n",
      "Epoch 10/20\n",
      "190/190 [==============================] - 3s 14ms/step - loss: 0.0863 - accuracy: 0.9680 - val_loss: 0.3016 - val_accuracy: 0.8952\n",
      "Epoch 11/20\n",
      "190/190 [==============================] - 3s 14ms/step - loss: 0.0743 - accuracy: 0.9733 - val_loss: 0.2769 - val_accuracy: 0.9057\n",
      "Epoch 12/20\n",
      "190/190 [==============================] - 3s 14ms/step - loss: 0.0623 - accuracy: 0.9781 - val_loss: 0.2716 - val_accuracy: 0.9031\n",
      "Epoch 13/20\n",
      "190/190 [==============================] - 3s 14ms/step - loss: 0.0545 - accuracy: 0.9786 - val_loss: 0.3103 - val_accuracy: 0.8998\n",
      "Epoch 14/20\n",
      "190/190 [==============================] - 3s 14ms/step - loss: 0.0459 - accuracy: 0.9847 - val_loss: 0.2778 - val_accuracy: 0.9103\n",
      "Epoch 15/20\n",
      "190/190 [==============================] - 3s 17ms/step - loss: 0.0365 - accuracy: 0.9872 - val_loss: 0.2782 - val_accuracy: 0.9163\n",
      "Epoch 16/20\n",
      "190/190 [==============================] - 3s 16ms/step - loss: 0.0398 - accuracy: 0.9867 - val_loss: 0.2956 - val_accuracy: 0.9136\n",
      "Epoch 17/20\n",
      "190/190 [==============================] - 3s 16ms/step - loss: 0.0305 - accuracy: 0.9885 - val_loss: 0.3137 - val_accuracy: 0.9103\n",
      "Epoch 18/20\n",
      "190/190 [==============================] - 3s 16ms/step - loss: 0.0275 - accuracy: 0.9900 - val_loss: 0.3150 - val_accuracy: 0.9136\n",
      "Epoch 19/20\n",
      "190/190 [==============================] - 3s 16ms/step - loss: 0.0301 - accuracy: 0.9885 - val_loss: 0.3173 - val_accuracy: 0.9143\n",
      "Epoch 20/20\n",
      "190/190 [==============================] - 3s 16ms/step - loss: 0.0216 - accuracy: 0.9934 - val_loss: 0.3641 - val_accuracy: 0.9044\n"
     ]
    }
   ],
   "source": [
    "print('Training progress:')\n",
    "history = model.fit(x_train, y_train, epochs = 20, batch_size=32, validation_data=(x_test, y_test))"
   ]
  },
  {
   "cell_type": "code",
   "execution_count": 101,
   "metadata": {},
   "outputs": [],
   "source": [
    "model.save(\"LSTM_model_1.h5\")"
   ]
  },
  {
   "cell_type": "code",
   "execution_count": 102,
   "metadata": {},
   "outputs": [
    {
     "name": "stdout",
     "output_type": "stream",
     "text": [
      "Saved model to disk\n"
     ]
    }
   ],
   "source": [
    "# serialize model to JSON\n",
    "model_json = model.to_json()\n",
    "with open(\"LSTM_model.json\", \"w\") as json_file:\n",
    "    json_file.write(model_json)\n",
    "# serialize weights to HDF5\n",
    "model.save_weights(\"model_weights.h5\")\n",
    "print(\"Saved model to disk\")"
   ]
  },
  {
   "cell_type": "code",
   "execution_count": 103,
   "metadata": {},
   "outputs": [],
   "source": [
    "import matplotlib.pyplot as plt"
   ]
  },
  {
   "cell_type": "code",
   "execution_count": 104,
   "metadata": {},
   "outputs": [
    {
     "data": {
      "image/png": "[encoded data removed]",
      "text/plain": [
       "<Figure size 640x480 with 1 Axes>"
      ]
     },
     "metadata": {},
     "output_type": "display_data"
    }
   ],
   "source": [
    "loss = history.history['loss']\n",
    "val_loss = history.history['val_loss']\n",
    "\n",
    "epochs = range(1, len(loss)+1)\n",
    "\n",
    "plt.plot(epochs, loss, label='Training loss')\n",
    "plt.plot(epochs, val_loss, label='Validation loss')\n",
    "plt.title('Training and validation loss')\n",
    "plt.xlabel('Epochs')\n",
    "plt.ylabel('Loss')\n",
    "plt.legend()\n",
    "plt.show();"
   ]
  },
  {
   "cell_type": "code",
   "execution_count": 105,
   "metadata": {},
   "outputs": [],
   "source": [
    "def predict(model,i):\n",
    "    clean_text =[]\n",
    "    i = basic_text_cleaning(i)\n",
    "    clean_text.append(i)\n",
    "    sequences = tokenizer.texts_to_sequences(clean_text)\n",
    "    data = pad_sequences(sequences, padding = 'post', maxlen = MAX_SEQUENCE_LENGTH)\n",
    "    pred = model.predict(data)\n",
    "    return pred"
   ]
  },
  {
   "cell_type": "code",
   "execution_count": 106,
   "metadata": {},
   "outputs": [],
   "source": [
    "test = \"Facebook Inc will allow employees participating in the protest to take the time off without drawing down their vacation days, spokesman Andy Stone said. Separately, online therapy company Talkspace said it ended partnership discussions with Facebook. Talkspace CEO Oren Frank tweeted he would “not support a platform that incites violence, racism, and lies.”\""
   ]
  },
  {
   "cell_type": "code",
   "execution_count": 107,
   "metadata": {},
   "outputs": [
    {
     "ename": "NameError",
     "evalue": "name 'model_new' is not defined",
     "output_type": "error",
     "traceback": [
      "\u001b[1;31m---------------------------------------------------------------------------\u001b[0m",
      "\u001b[1;31mNameError\u001b[0m                                 Traceback (most recent call last)",
      "Cell \u001b[1;32mIn[107], line 1\u001b[0m\n\u001b[1;32m----> 1\u001b[0m predict(model\u001b[39m=\u001b[39mmodel_new,i\u001b[39m=\u001b[39mtest)[\u001b[39m0\u001b[39m][\u001b[39m0\u001b[39m]\n",
      "\u001b[1;31mNameError\u001b[0m: name 'model_new' is not defined"
     ]
    }
   ],
   "source": [
    "predict(model=model,i=test)[0][0]"
   ]
  },
  {
   "cell_type": "code",
   "execution_count": null,
   "metadata": {},
   "outputs": [
    {
     "data": {
      "text/plain": [
       "array([[4.3928901e-09, 1.0000000e+00],\n",
       "       [3.9913253e-14, 1.0000000e+00],\n",
       "       [1.0000000e+00, 6.2545832e-12],\n",
       "       ...,\n",
       "       [5.1183279e-15, 1.0000000e+00],\n",
       "       [9.8688555e-01, 1.6947305e-02],\n",
       "       [2.2732119e-07, 9.9999976e-01]], dtype=float32)"
      ]
     },
     "execution_count": 94,
     "metadata": {},
     "output_type": "execute_result"
    }
   ],
   "source": [
    "model.predict(x_test)"
   ]
  },
  {
   "cell_type": "code",
   "execution_count": null,
   "metadata": {},
   "outputs": [
    {
     "data": {
      "text/plain": [
       "array([ 1765,    17,  2389,  1765,    47,  1120,  2869,    29,    45,\n",
       "           8,  2317,   386,     9,   490,  8097,   125,   519,  1955,\n",
       "         935,   115,   129,  8173,  3830,     1,   127,     8,    19,\n",
       "         734,  1120,   618,   737,    29,    45,   619,     9,  3830,\n",
       "           1,     8,    57,    29,    45,  3558,  2317,   490,   635,\n",
       "           5,    81,   500,   179,   737,   471,     9,     8,  5469,\n",
       "         517, 43082,     5,    81,  2969,  8368,  6292,  5802,   215,\n",
       "           9,  3830,   316,  1765,  1868,  2176,   877,    30,  7832,\n",
       "         392,  6292,  5802,  8566,   273,   646,    28,   896,  1002,\n",
       "        3578,   392,     7,    10,    20,     2,  1066,  3181,   619,\n",
       "         104,   215,   311,   127,     0,     0,     0,     0,     0,\n",
       "           0,     0,     0,     0,     0,     0,     0,     0,     0,\n",
       "           0,     0,     0,     0,     0,     0,     0,     0,     0,\n",
       "           0,     0,     0,     0,     0,     0,     0,     0,     0,\n",
       "           0,     0,     0,     0,     0,     0,     0,     0,     0,\n",
       "           0,     0,     0,     0,     0,     0,     0,     0,     0,\n",
       "           0,     0,     0,     0,     0,     0,     0,     0,     0,\n",
       "           0,     0,     0,     0,     0,     0,     0,     0,     0,\n",
       "           0,     0,     0,     0,     0,     0,     0,     0,     0,\n",
       "           0,     0,     0,     0,     0,     0,     0,     0,     0,\n",
       "           0,     0,     0,     0,     0,     0,     0,     0,     0,\n",
       "           0,     0,     0,     0,     0,     0,     0,     0,     0,\n",
       "           0,     0])"
      ]
     },
     "execution_count": 97,
     "metadata": {},
     "output_type": "execute_result"
    }
   ],
   "source": [
    "x_test[2]"
   ]
  },
  {
   "cell_type": "code",
   "execution_count": null,
   "metadata": {},
   "outputs": [],
   "source": [
    "y_classes = predict(model=model,i=test).argmax(axis=-1)"
   ]
  },
  {
   "cell_type": "code",
   "execution_count": null,
   "metadata": {},
   "outputs": [
    {
     "data": {
      "text/plain": [
       "0"
      ]
     },
     "execution_count": 115,
     "metadata": {},
     "output_type": "execute_result"
    }
   ],
   "source": [
    "y_classes[0]"
   ]
  },
  {
   "cell_type": "code",
   "execution_count": null,
   "metadata": {},
   "outputs": [],
   "source": [
    "from tensorflow.keras.models import load_model\n",
    "model_new = load_model(\"LSTM_model.h5\")"
   ]
  },
  {
   "cell_type": "code",
   "execution_count": null,
   "metadata": {},
   "outputs": [],
   "source": []
  }
 ],
 "metadata": {
  "kernelspec": {
   "display_name": "Python 3",
   "language": "python",
   "name": "python3"
  },
  "language_info": {
   "codemirror_mode": {
    "name": "ipython",
    "version": 3
   },
   "file_extension": ".py",
   "mimetype": "text/x-python",
   "name": "python",
   "nbconvert_exporter": "python",
   "pygments_lexer": "ipython3",
   "version": "3.10.9"
  }
 },
 "nbformat": 4,
 "nbformat_minor": 2
}
